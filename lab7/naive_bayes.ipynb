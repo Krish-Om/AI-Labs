{
  "cells": [
    {
      "cell_type": "code",
      "execution_count": 45,
      "metadata": {
        "colab": {
          "base_uri": "https://localhost:8080/"
        },
        "id": "K_gnILNEdUKU",
        "outputId": "93e04281-d64b-4e01-a7c7-e889843f68cf"
      },
      "outputs": [
        {
          "name": "stdout",
          "output_type": "stream",
          "text": [
            "Starting Naive Bayes lab in local environment\n"
          ]
        }
      ],
      "source": [
        "# Lab 7: Naive Bayes Implementation\n",
        "# Local environment setup - no Google Colab needed\n",
        "print(\"Starting Naive Bayes lab in local environment\")"
      ]
    },
    {
      "cell_type": "code",
      "execution_count": 46,
      "metadata": {
        "id": "80qWlHM9dYQf"
      },
      "outputs": [
        {
          "name": "stdout",
          "output_type": "stream",
          "text": [
            "Current working directory: /home/krishom/College/AI-ML/Labs/lab7\n"
          ]
        }
      ],
      "source": [
        "import os\n",
        "# Working in local environment - current directory should be fine\n",
        "print(f\"Current working directory: {os.getcwd()}\")"
      ]
    },
    {
      "cell_type": "code",
      "execution_count": 47,
      "metadata": {
        "colab": {
          "base_uri": "https://localhost:8080/"
        },
        "id": "CKBXDt-QeBNP",
        "outputId": "9a9704bb-bd8d-4a24-f647-19d754dc3f10"
      },
      "outputs": [
        {
          "name": "stdout",
          "output_type": "stream",
          "text": [
            "naive_bayes.ipynb  Naive_Bayes_New.ipynb\n"
          ]
        }
      ],
      "source": [
        "!ls"
      ]
    },
    {
      "cell_type": "code",
      "execution_count": 70,
      "metadata": {
        "colab": {
          "base_uri": "https://localhost:8080/"
        },
        "id": "QYWXWEOVZjuq",
        "outputId": "ec0bb4cd-e74d-4305-f0a3-6bd75580effe"
      },
      "outputs": [
        {
          "name": "stdout",
          "output_type": "stream",
          "text": [
            "      Outlook Temperature Humidity    Wind Play Tennis\n",
            "D1      Sunny         Hot     High    Weak          No\n",
            "D2      Sunny         Hot     High  Strong          No\n",
            "D3   Overcast         Hot     High    Weak         Yes\n",
            "D4       Rain        Mild     High    Weak         Yes\n",
            "D5       Rain        Cool   Normal    Weak         Yes\n",
            "D6       Rain        Cool   Normal  Strong          No\n",
            "D7   Overcast        Cool   Normal  Strong         Yes\n",
            "D8      Sunny        Mild     High    Weak          No\n",
            "D9      Sunny        Cool   Normal    Weak         Yes\n",
            "D10      Rain        Mild   Normal    Weak         Yes\n",
            "D11     Sunny        Mild   Normal  Strong         Yes\n",
            "D12  Overcast        Mild     High  Strong         Yes\n",
            "D13  Overcast         Hot   Normal    Weak         Yes\n",
            "D14      Rain        Mild     High  Strong          No\n"
          ]
        }
      ],
      "source": [
        "import pandas as pd\n",
        "import numpy as np\n",
        "file_name = \"https://docs.google.com/spreadsheets/d/1vetsYXIuqYsb9MUHJvL5PbVbnGZdeAtSzZvXqZqetAU\"+ '/export?gid=0&format=xlsx'\n",
        "df = pd.read_excel(file_name,index_col=0, sheet_name=\"example-1\",engine='openpyxl')\n",
        "print(df)"
      ]
    },
    {
      "cell_type": "code",
      "execution_count": 49,
      "metadata": {
        "colab": {
          "base_uri": "https://localhost:8080/"
        },
        "id": "k2ATYGYXlRii",
        "outputId": "c45f4608-b25e-41dd-b54c-1084846bdd32"
      },
      "outputs": [
        {
          "name": "stdout",
          "output_type": "stream",
          "text": [
            "(14, 4)\n",
            "D1      No\n",
            "D2      No\n",
            "D3     Yes\n",
            "D4     Yes\n",
            "D5     Yes\n",
            "D6      No\n",
            "D7     Yes\n",
            "D8      No\n",
            "D9     Yes\n",
            "D10    Yes\n",
            "D11    Yes\n",
            "D12    Yes\n",
            "D13    Yes\n",
            "D14     No\n",
            "Name: Play Tennis, dtype: object\n"
          ]
        }
      ],
      "source": [
        "X, y=df.drop([\"Play Tennis\"],axis=1),df[\"Play Tennis\"]\n",
        "print(X.shape)\n",
        "print(y)"
      ]
    },
    {
      "cell_type": "code",
      "execution_count": 50,
      "metadata": {
        "id": "tSNeP5Nela2a"
      },
      "outputs": [],
      "source": [
        "def accuracy_score(y_true, y_pred):\n",
        "\n",
        "\t\"\"\"\tscore = (y_true - y_pred) / len(y_true) \"\"\"\n",
        "\n",
        "\treturn round(float(sum(y_pred == y_true))/float(len(y_true)) * 100 ,2)"
      ]
    },
    {
      "cell_type": "code",
      "execution_count": 51,
      "metadata": {
        "id": "jMPn1QrmfXjB"
      },
      "outputs": [],
      "source": [
        "class  NaiveBayes:\n",
        "\n",
        "\t\"\"\"\n",
        "\t\tBayes Theorem:\n",
        "\t\t\t\t\t\t\t\t\t\tLikelihood * Class prior probability\n",
        "\t\t\t\tPosterior Probability = -------------------------------------\n",
        "\t\t\t\t\t\t\t\t\t\t\tPredictor prior probability\n",
        "\n",
        "\t\t\t\t\t\t\t  \t\t\t P(x|c) * p(c)\n",
        "\t\t\t\t\t\t\t   P(c|x) = ------------------\n",
        "\t\t\t\t\t\t\t\t\t\t\t  P(x)\n",
        "\t\"\"\"\n",
        "\n",
        "\tdef __init__(self):\n",
        "\n",
        "\t\t\"\"\"\n",
        "\t\t\tAttributes:\n",
        "\t\t\t\tlikelihoods: Likelihood of each feature per class\n",
        "\t\t\t\tclass_priors: Prior probabilities of classes\n",
        "\t\t\t\tpred_priors: Prior probabilities of features\n",
        "\t\t\t\tfeatures: All features of dataset\n",
        "\t\t\"\"\"\n",
        "\t\tself.features = list\n",
        "\t\tself.likelihoods = {}\n",
        "\t\tself.class_priors = {}\n",
        "\t\tself.pred_priors = {}\n",
        "\n",
        "\t\tself.X_train = np.array\n",
        "\t\tself.y_train = np.array\n",
        "\t\tself.train_size = int\n",
        "\t\tself.num_feats = int\n",
        "\n",
        "\tdef fit(self, X, y):\n",
        "\n",
        "\t\tself.features = list(X.columns)\n",
        "\t\tself.X_train = X\n",
        "\t\tself.y_train = y\n",
        "\t\tself.train_size = X.shape[0]\n",
        "\t\tself.num_feats = X.shape[1]\n",
        "\n",
        "\t\tfor feature in self.features:\n",
        "\t\t\tself.likelihoods[feature] = {}\n",
        "\t\t\tself.pred_priors[feature] = {}\n",
        "\n",
        "\t\t\tfor feat_val in np.unique(self.X_train[feature]):\n",
        "\t\t\t\tself.pred_priors[feature].update({feat_val: 0})\n",
        "\n",
        "\t\t\t\tfor outcome in np.unique(self.y_train):\n",
        "\t\t\t\t\tself.likelihoods[feature].update({feat_val+'_'+outcome:0})\n",
        "\t\t\t\t\tself.class_priors.update({outcome: 0})\n",
        "\n",
        "\t\tself._calc_class_prior()\n",
        "\t\tself._calc_likelihoods()\n",
        "\t\tself._calc_predictor_prior()\n",
        "\n",
        "\tdef _calc_class_prior(self):\n",
        "\n",
        "\t\t\"\"\" P(c) - Prior Class Probability \"\"\"\n",
        "\n",
        "\t\tfor outcome in np.unique(self.y_train):\n",
        "\t\t\toutcome_count = sum(self.y_train == outcome)\n",
        "\t\t\tself.class_priors[outcome] = outcome_count / self.train_size\n",
        "\n",
        "\tdef _calc_likelihoods(self):\n",
        "\n",
        "\t\t\"\"\" P(x|c) - Likelihood \"\"\"\n",
        "\n",
        "\t\tfor feature in self.features:\n",
        "\n",
        "\t\t\tfor outcome in np.unique(self.y_train):\n",
        "\t\t\t\toutcome_count = sum(self.y_train == outcome)\n",
        "\t\t\t\tfeat_likelihood = self.X_train[feature][self.y_train[self.y_train == outcome].index.values.tolist()].value_counts().to_dict()\n",
        "\n",
        "\t\t\t\tfor feat_val, count in feat_likelihood.items():\n",
        "\t\t\t\t\tself.likelihoods[feature][feat_val + '_' + outcome] = count/outcome_count\n",
        "\n",
        "\n",
        "\tdef _calc_predictor_prior(self):\n",
        "\n",
        "\t\t\"\"\" P(x) - Evidence \"\"\"\n",
        "\n",
        "\t\tfor feature in self.features:\n",
        "\t\t\tfeat_vals = self.X_train[feature].value_counts().to_dict()\n",
        "\n",
        "\t\t\tfor feat_val, count in feat_vals.items():\n",
        "\t\t\t\tself.pred_priors[feature][feat_val] = count/self.train_size\n",
        "\n",
        "\n",
        "\tdef predict(self, X):\n",
        "\n",
        "\t\t\"\"\" Calculates Posterior probability P(c|x) \"\"\"\n",
        "\n",
        "\t\tresults = []\n",
        "\t\tX = np.array(X)\n",
        "\n",
        "\t\tfor query in X:\n",
        "\t\t\tprobs_outcome = {}\n",
        "\t\t\tfor outcome in np.unique(self.y_train):\n",
        "\t\t\t\tprior = self.class_priors[outcome]\n",
        "\t\t\t\tlikelihood = 1\n",
        "\t\t\t\tevidence = 1\n",
        "\n",
        "\t\t\t\tfor feat, feat_val in zip(self.features, query):\n",
        "\t\t\t\t\tlikelihood *= self.likelihoods[feat][feat_val + '_' + outcome]\n",
        "\t\t\t\t\tevidence *= self.pred_priors[feat][feat_val]\n",
        "\n",
        "\t\t\t\t# posterior = (likelihood * prior) / (evidence)\n",
        "\t\t\t\tposterior = (likelihood * prior)\n",
        "\n",
        "\t\t\t\tprobs_outcome[outcome] = posterior\n",
        "\n",
        "\t\t\tresult = max(probs_outcome, key = lambda x: probs_outcome[x])\n",
        "\t\t\tprint(probs_outcome)\n",
        "\t\t\tresults.append(result)\n",
        "\n",
        "\t\treturn np.array(results)\n"
      ]
    },
    {
      "cell_type": "code",
      "execution_count": 71,
      "metadata": {
        "colab": {
          "base_uri": "https://localhost:8080/"
        },
        "id": "mSEzsqF3lKYE",
        "outputId": "85afa883-7a52-4113-8949-bd8fdf336e8a"
      },
      "outputs": [
        {
          "ename": "UFuncTypeError",
          "evalue": "ufunc 'add' did not contain a loop with signature matching types (dtype('int64'), dtype('<U1')) -> None",
          "output_type": "error",
          "traceback": [
            "\u001b[0;31m---------------------------------------------------------------------------\u001b[0m",
            "\u001b[0;31mUFuncTypeError\u001b[0m                            Traceback (most recent call last)",
            "Cell \u001b[0;32mIn[71], line 2\u001b[0m\n\u001b[1;32m      1\u001b[0m nb_clf \u001b[38;5;241m=\u001b[39m NaiveBayes()\n\u001b[0;32m----> 2\u001b[0m \u001b[43mnb_clf\u001b[49m\u001b[38;5;241;43m.\u001b[39;49m\u001b[43mfit\u001b[49m\u001b[43m(\u001b[49m\u001b[43mX\u001b[49m\u001b[43m,\u001b[49m\u001b[43m \u001b[49m\u001b[43my\u001b[49m\u001b[43m)\u001b[49m\n\u001b[1;32m      4\u001b[0m \u001b[38;5;28mprint\u001b[39m(\u001b[38;5;124m\"\u001b[39m\u001b[38;5;124mTrain Accuracy: \u001b[39m\u001b[38;5;132;01m{}\u001b[39;00m\u001b[38;5;124m\"\u001b[39m\u001b[38;5;241m.\u001b[39mformat(accuracy_score(y, nb_clf\u001b[38;5;241m.\u001b[39mpredict(X))))\n\u001b[1;32m      6\u001b[0m \u001b[38;5;66;03m#Query 1:\u001b[39;00m\n\u001b[1;32m      7\u001b[0m \u001b[38;5;66;03m# Outlook Temperature Humidity    Wind Play Tennis\u001b[39;00m\n",
            "Cell \u001b[0;32mIn[51], line 49\u001b[0m, in \u001b[0;36mNaiveBayes.fit\u001b[0;34m(self, X, y)\u001b[0m\n\u001b[1;32m     46\u001b[0m \t\t\u001b[38;5;28mself\u001b[39m\u001b[38;5;241m.\u001b[39mpred_priors[feature]\u001b[38;5;241m.\u001b[39mupdate({feat_val: \u001b[38;5;241m0\u001b[39m})\n\u001b[1;32m     48\u001b[0m \t\t\u001b[38;5;28;01mfor\u001b[39;00m outcome \u001b[38;5;129;01min\u001b[39;00m np\u001b[38;5;241m.\u001b[39munique(\u001b[38;5;28mself\u001b[39m\u001b[38;5;241m.\u001b[39my_train):\n\u001b[0;32m---> 49\u001b[0m \t\t\t\u001b[38;5;28mself\u001b[39m\u001b[38;5;241m.\u001b[39mlikelihoods[feature]\u001b[38;5;241m.\u001b[39mupdate({\u001b[43mfeat_val\u001b[49m\u001b[38;5;241;43m+\u001b[39;49m\u001b[38;5;124;43m'\u001b[39;49m\u001b[38;5;124;43m_\u001b[39;49m\u001b[38;5;124;43m'\u001b[39;49m\u001b[38;5;241m+\u001b[39moutcome:\u001b[38;5;241m0\u001b[39m})\n\u001b[1;32m     50\u001b[0m \t\t\t\u001b[38;5;28mself\u001b[39m\u001b[38;5;241m.\u001b[39mclass_priors\u001b[38;5;241m.\u001b[39mupdate({outcome: \u001b[38;5;241m0\u001b[39m})\n\u001b[1;32m     52\u001b[0m \u001b[38;5;28mself\u001b[39m\u001b[38;5;241m.\u001b[39m_calc_class_prior()\n",
            "\u001b[0;31mUFuncTypeError\u001b[0m: ufunc 'add' did not contain a loop with signature matching types (dtype('int64'), dtype('<U1')) -> None"
          ]
        }
      ],
      "source": [
        "nb_clf = NaiveBayes()\n",
        "nb_clf.fit(X, y)\n",
        "\n",
        "print(\"Train Accuracy: {}\".format(accuracy_score(y, nb_clf.predict(X))))\n",
        "\n",
        "#Query 1:\n",
        "# Outlook Temperature Humidity    Wind Play Tennis\n",
        "query = np.array([['Sunny','Cool','High','Strong']])\n",
        "print(\"Query:- {} ---> {}\".format(query, nb_clf.predict(query)))\n"
      ]
    },
    {
      "cell_type": "code",
      "execution_count": 53,
      "metadata": {
        "colab": {
          "base_uri": "https://localhost:8080/"
        },
        "id": "nTi9ZphjozJX",
        "outputId": "3ea0aee9-7bbf-41e3-d5b3-0747177e6314"
      },
      "outputs": [
        {
          "data": {
            "text/plain": [
              "{'Outlook': {'Overcast': 0.2857142857142857,\n",
              "  'Rain': 0.35714285714285715,\n",
              "  'Sunny': 0.35714285714285715},\n",
              " 'Temperature': {'Cool': 0.2857142857142857,\n",
              "  'Hot': 0.2857142857142857,\n",
              "  'Mild': 0.42857142857142855},\n",
              " 'Humidity': {'High': 0.5, 'Normal': 0.5},\n",
              " 'Wind': {'Strong': 0.42857142857142855, 'Weak': 0.5714285714285714}}"
            ]
          },
          "execution_count": 53,
          "metadata": {},
          "output_type": "execute_result"
        }
      ],
      "source": [
        "nb_clf.pred_priors"
      ]
    },
    {
      "cell_type": "code",
      "execution_count": 54,
      "metadata": {
        "colab": {
          "base_uri": "https://localhost:8080/"
        },
        "id": "GEgTCsN0p2Tx",
        "outputId": "05d68477-4df9-47d6-bc78-6b1587dc28ba"
      },
      "outputs": [
        {
          "data": {
            "text/plain": [
              "{'No': 0.35714285714285715, 'Yes': 0.6428571428571429}"
            ]
          },
          "execution_count": 54,
          "metadata": {},
          "output_type": "execute_result"
        }
      ],
      "source": [
        "nb_clf.class_priors"
      ]
    },
    {
      "cell_type": "code",
      "execution_count": 55,
      "metadata": {
        "colab": {
          "base_uri": "https://localhost:8080/"
        },
        "id": "GjjhEpLKpMiB",
        "outputId": "0db0c2bd-bb69-41f6-9813-404f32693795"
      },
      "outputs": [
        {
          "data": {
            "text/plain": [
              "{'Outlook': {'Overcast_No': 0,\n",
              "  'Overcast_Yes': 0.4444444444444444,\n",
              "  'Rain_No': 0.4,\n",
              "  'Rain_Yes': 0.3333333333333333,\n",
              "  'Sunny_No': 0.6,\n",
              "  'Sunny_Yes': 0.2222222222222222},\n",
              " 'Temperature': {'Cool_No': 0.2,\n",
              "  'Cool_Yes': 0.3333333333333333,\n",
              "  'Hot_No': 0.4,\n",
              "  'Hot_Yes': 0.2222222222222222,\n",
              "  'Mild_No': 0.4,\n",
              "  'Mild_Yes': 0.4444444444444444},\n",
              " 'Humidity': {'High_No': 0.8,\n",
              "  'High_Yes': 0.3333333333333333,\n",
              "  'Normal_No': 0.2,\n",
              "  'Normal_Yes': 0.6666666666666666},\n",
              " 'Wind': {'Strong_No': 0.6,\n",
              "  'Strong_Yes': 0.3333333333333333,\n",
              "  'Weak_No': 0.4,\n",
              "  'Weak_Yes': 0.6666666666666666}}"
            ]
          },
          "execution_count": 55,
          "metadata": {},
          "output_type": "execute_result"
        }
      ],
      "source": [
        "nb_clf.likelihoods"
      ]
    },
    {
      "cell_type": "code",
      "execution_count": 56,
      "metadata": {
        "colab": {
          "base_uri": "https://localhost:8080/"
        },
        "id": "sAM-Fhetf46Z",
        "outputId": "d6762253-c5f1-4b64-c537-c867f69e8182"
      },
      "outputs": [
        {
          "data": {
            "text/plain": [
              "['No', 'Yes']"
            ]
          },
          "execution_count": 56,
          "metadata": {},
          "output_type": "execute_result"
        }
      ],
      "source": [
        "list(y.unique())"
      ]
    },
    {
      "cell_type": "code",
      "execution_count": 57,
      "metadata": {
        "id": "mdWXsPBshPM7"
      },
      "outputs": [],
      "source": [
        "df_new = df"
      ]
    },
    {
      "cell_type": "code",
      "execution_count": null,
      "metadata": {
        "id": "kaSYGuP_ijks"
      },
      "outputs": [],
      "source": []
    },
    {
      "cell_type": "code",
      "execution_count": 58,
      "metadata": {
        "colab": {
          "base_uri": "https://localhost:8080/",
          "height": 609
        },
        "id": "Hutp2rs2iN32",
        "outputId": "023308c7-021d-437e-f36a-b069c16b67af"
      },
      "outputs": [
        {
          "name": "stderr",
          "output_type": "stream",
          "text": [
            "/tmp/ipykernel_10776/2524715660.py:2: FutureWarning: Downcasting behavior in `replace` is deprecated and will be removed in a future version. To retain the old behavior, explicitly call `result.infer_objects(copy=False)`. To opt-in to the future behavior, set `pd.set_option('future.no_silent_downcasting', True)`\n",
            "  df_new = df_new.replace([\"Rain\",\"Cool\",\"Normal\",\"Weak\",\"No\"], 0)\n",
            "/tmp/ipykernel_10776/2524715660.py:3: FutureWarning: Downcasting behavior in `replace` is deprecated and will be removed in a future version. To retain the old behavior, explicitly call `result.infer_objects(copy=False)`. To opt-in to the future behavior, set `pd.set_option('future.no_silent_downcasting', True)`\n",
            "  df_new = df_new.replace([\"Overcast\",\"Mild\"], 2)\n"
          ]
        },
        {
          "data": {
            "text/html": [
              "<div>\n",
              "<style scoped>\n",
              "    .dataframe tbody tr th:only-of-type {\n",
              "        vertical-align: middle;\n",
              "    }\n",
              "\n",
              "    .dataframe tbody tr th {\n",
              "        vertical-align: top;\n",
              "    }\n",
              "\n",
              "    .dataframe thead th {\n",
              "        text-align: right;\n",
              "    }\n",
              "</style>\n",
              "<table border=\"1\" class=\"dataframe\">\n",
              "  <thead>\n",
              "    <tr style=\"text-align: right;\">\n",
              "      <th></th>\n",
              "      <th>Outlook</th>\n",
              "      <th>Temperature</th>\n",
              "      <th>Humidity</th>\n",
              "      <th>Wind</th>\n",
              "      <th>Play Tennis</th>\n",
              "    </tr>\n",
              "  </thead>\n",
              "  <tbody>\n",
              "    <tr>\n",
              "      <th>D1</th>\n",
              "      <td>1</td>\n",
              "      <td>1</td>\n",
              "      <td>1</td>\n",
              "      <td>0</td>\n",
              "      <td>0</td>\n",
              "    </tr>\n",
              "    <tr>\n",
              "      <th>D2</th>\n",
              "      <td>1</td>\n",
              "      <td>1</td>\n",
              "      <td>1</td>\n",
              "      <td>1</td>\n",
              "      <td>0</td>\n",
              "    </tr>\n",
              "    <tr>\n",
              "      <th>D3</th>\n",
              "      <td>2</td>\n",
              "      <td>1</td>\n",
              "      <td>1</td>\n",
              "      <td>0</td>\n",
              "      <td>1</td>\n",
              "    </tr>\n",
              "    <tr>\n",
              "      <th>D4</th>\n",
              "      <td>0</td>\n",
              "      <td>2</td>\n",
              "      <td>1</td>\n",
              "      <td>0</td>\n",
              "      <td>1</td>\n",
              "    </tr>\n",
              "    <tr>\n",
              "      <th>D5</th>\n",
              "      <td>0</td>\n",
              "      <td>0</td>\n",
              "      <td>0</td>\n",
              "      <td>0</td>\n",
              "      <td>1</td>\n",
              "    </tr>\n",
              "    <tr>\n",
              "      <th>D6</th>\n",
              "      <td>0</td>\n",
              "      <td>0</td>\n",
              "      <td>0</td>\n",
              "      <td>1</td>\n",
              "      <td>0</td>\n",
              "    </tr>\n",
              "    <tr>\n",
              "      <th>D7</th>\n",
              "      <td>2</td>\n",
              "      <td>0</td>\n",
              "      <td>0</td>\n",
              "      <td>1</td>\n",
              "      <td>1</td>\n",
              "    </tr>\n",
              "    <tr>\n",
              "      <th>D8</th>\n",
              "      <td>1</td>\n",
              "      <td>2</td>\n",
              "      <td>1</td>\n",
              "      <td>0</td>\n",
              "      <td>0</td>\n",
              "    </tr>\n",
              "    <tr>\n",
              "      <th>D9</th>\n",
              "      <td>1</td>\n",
              "      <td>0</td>\n",
              "      <td>0</td>\n",
              "      <td>0</td>\n",
              "      <td>1</td>\n",
              "    </tr>\n",
              "    <tr>\n",
              "      <th>D10</th>\n",
              "      <td>0</td>\n",
              "      <td>2</td>\n",
              "      <td>0</td>\n",
              "      <td>0</td>\n",
              "      <td>1</td>\n",
              "    </tr>\n",
              "    <tr>\n",
              "      <th>D11</th>\n",
              "      <td>1</td>\n",
              "      <td>2</td>\n",
              "      <td>0</td>\n",
              "      <td>1</td>\n",
              "      <td>1</td>\n",
              "    </tr>\n",
              "    <tr>\n",
              "      <th>D12</th>\n",
              "      <td>2</td>\n",
              "      <td>2</td>\n",
              "      <td>1</td>\n",
              "      <td>1</td>\n",
              "      <td>1</td>\n",
              "    </tr>\n",
              "    <tr>\n",
              "      <th>D13</th>\n",
              "      <td>2</td>\n",
              "      <td>1</td>\n",
              "      <td>0</td>\n",
              "      <td>0</td>\n",
              "      <td>1</td>\n",
              "    </tr>\n",
              "    <tr>\n",
              "      <th>D14</th>\n",
              "      <td>0</td>\n",
              "      <td>2</td>\n",
              "      <td>1</td>\n",
              "      <td>1</td>\n",
              "      <td>0</td>\n",
              "    </tr>\n",
              "  </tbody>\n",
              "</table>\n",
              "</div>"
            ],
            "text/plain": [
              "     Outlook  Temperature  Humidity  Wind  Play Tennis\n",
              "D1         1            1         1     0            0\n",
              "D2         1            1         1     1            0\n",
              "D3         2            1         1     0            1\n",
              "D4         0            2         1     0            1\n",
              "D5         0            0         0     0            1\n",
              "D6         0            0         0     1            0\n",
              "D7         2            0         0     1            1\n",
              "D8         1            2         1     0            0\n",
              "D9         1            0         0     0            1\n",
              "D10        0            2         0     0            1\n",
              "D11        1            2         0     1            1\n",
              "D12        2            2         1     1            1\n",
              "D13        2            1         0     0            1\n",
              "D14        0            2         1     1            0"
            ]
          },
          "execution_count": 58,
          "metadata": {},
          "output_type": "execute_result"
        }
      ],
      "source": [
        "df_new = df_new.replace([\"Sunny\",\"Hot\",\"Strong\",\"High\",\"Yes\"], 1)\n",
        "df_new = df_new.replace([\"Rain\",\"Cool\",\"Normal\",\"Weak\",\"No\"], 0)\n",
        "df_new = df_new.replace([\"Overcast\",\"Mild\"], 2)\n",
        "df_new"
      ]
    },
    {
      "cell_type": "code",
      "execution_count": 59,
      "metadata": {
        "colab": {
          "base_uri": "https://localhost:8080/"
        },
        "id": "rRc88-FYkGZh",
        "outputId": "3490b663-4bee-403d-8aa1-09f71cce6626"
      },
      "outputs": [
        {
          "name": "stdout",
          "output_type": "stream",
          "text": [
            "(14, 4)\n",
            "D1     0\n",
            "D2     0\n",
            "D3     1\n",
            "D4     1\n",
            "D5     1\n",
            "D6     0\n",
            "D7     1\n",
            "D8     0\n",
            "D9     1\n",
            "D10    1\n",
            "D11    1\n",
            "D12    1\n",
            "D13    1\n",
            "D14    0\n",
            "Name: Play Tennis, dtype: int64\n"
          ]
        }
      ],
      "source": [
        "X, y=df_new.drop([\"Play Tennis\"],axis=1),df_new[\"Play Tennis\"]\n",
        "print(X.shape)\n",
        "print(y)"
      ]
    },
    {
      "cell_type": "code",
      "execution_count": 60,
      "metadata": {
        "id": "NRoUXdG8ZD5q"
      },
      "outputs": [],
      "source": [
        "import numpy as np\n",
        "\n",
        "class NaiveBayesClassifier:\n",
        "    def __init__(self):\n",
        "        self.priors = None\n",
        "        self.conditional_probs = None\n",
        "\n",
        "    def fit(self, X, y):\n",
        "        \"\"\"\n",
        "        Fits the Naive Bayes classifier to the training data.\n",
        "\n",
        "        Args:\n",
        "            X: A numpy array of shape (n_samples, n_features) representing the features.\n",
        "            y: A numpy array of shape (n_samples,) representing the target labels.\n",
        "        \"\"\"\n",
        "\n",
        "        n_samples, n_features = X.shape\n",
        "        n_classes = len(np.unique(y))\n",
        "\n",
        "        # Calculate priors\n",
        "        self.priors = np.zeros(n_classes)\n",
        "        for i in range(n_classes):\n",
        "\n",
        "            self.priors[i] = np.sum(y == i) / n_samples\n",
        "\n",
        "        # Calculate conditional probabilities\n",
        "        self.conditional_probs = np.zeros((n_classes, n_features))\n",
        "        for i in range(n_classes):\n",
        "            X_class = X[y == i]\n",
        "            for j in range(n_features):\n",
        "                print(np.mean(X_class),y,i)\n",
        "                # self.conditional_probs[i, j] = np.mean(X_class[:, j])\n",
        "                print(\"hello\")\n",
        "\n",
        "    def predict(self, X):\n",
        "        \"\"\"\n",
        "        Predicts the class labels for new data.\n",
        "\n",
        "        Args:\n",
        "            X: A numpy array of shape (n_samples, n_features) representing the new data.\n",
        "\n",
        "        Returns:\n",
        "            A numpy array of shape (n_samples,) representing the predicted class labels.\n",
        "        \"\"\"\n",
        "\n",
        "        n_samples, n_features = X.shape\n",
        "        n_classes = len(self.priors)\n",
        "\n",
        "        # Calculate posterior probabilities\n",
        "        posteriors = np.zeros((n_samples, n_classes))\n",
        "        for i in range(n_classes):\n",
        "            for j in range(n_samples):\n",
        "                posteriors[j, i] = np.log(self.priors[i]) + np.sum(\n",
        "                    np.log(self.conditional_probs[i, :]) * X[j, :]\n",
        "                )\n",
        "\n",
        "        # Predict the class with the highest posterior probability\n",
        "        return np.argmax(posteriors, axis=1)"
      ]
    },
    {
      "cell_type": "code",
      "execution_count": 61,
      "metadata": {
        "colab": {
          "base_uri": "https://localhost:8080/"
        },
        "id": "eWZ4O90rZWHQ",
        "outputId": "dd917823-a6bb-4930-9952-d916bca0ef20"
      },
      "outputs": [
        {
          "name": "stdout",
          "output_type": "stream",
          "text": [
            "0.8 D1     0\n",
            "D2     0\n",
            "D3     1\n",
            "D4     1\n",
            "D5     1\n",
            "D6     0\n",
            "D7     1\n",
            "D8     0\n",
            "D9     1\n",
            "D10    1\n",
            "D11    1\n",
            "D12    1\n",
            "D13    1\n",
            "D14    0\n",
            "Name: Play Tennis, dtype: int64 0\n",
            "hello\n",
            "0.8 D1     0\n",
            "D2     0\n",
            "D3     1\n",
            "D4     1\n",
            "D5     1\n",
            "D6     0\n",
            "D7     1\n",
            "D8     0\n",
            "D9     1\n",
            "D10    1\n",
            "D11    1\n",
            "D12    1\n",
            "D13    1\n",
            "D14    0\n",
            "Name: Play Tennis, dtype: int64 0\n",
            "hello\n",
            "0.8 D1     0\n",
            "D2     0\n",
            "D3     1\n",
            "D4     1\n",
            "D5     1\n",
            "D6     0\n",
            "D7     1\n",
            "D8     0\n",
            "D9     1\n",
            "D10    1\n",
            "D11    1\n",
            "D12    1\n",
            "D13    1\n",
            "D14    0\n",
            "Name: Play Tennis, dtype: int64 0\n",
            "hello\n",
            "0.8 D1     0\n",
            "D2     0\n",
            "D3     1\n",
            "D4     1\n",
            "D5     1\n",
            "D6     0\n",
            "D7     1\n",
            "D8     0\n",
            "D9     1\n",
            "D10    1\n",
            "D11    1\n",
            "D12    1\n",
            "D13    1\n",
            "D14    0\n",
            "Name: Play Tennis, dtype: int64 0\n",
            "hello\n",
            "0.7222222222222222 D1     0\n",
            "D2     0\n",
            "D3     1\n",
            "D4     1\n",
            "D5     1\n",
            "D6     0\n",
            "D7     1\n",
            "D8     0\n",
            "D9     1\n",
            "D10    1\n",
            "D11    1\n",
            "D12    1\n",
            "D13    1\n",
            "D14    0\n",
            "Name: Play Tennis, dtype: int64 1\n",
            "hello\n",
            "0.7222222222222222 D1     0\n",
            "D2     0\n",
            "D3     1\n",
            "D4     1\n",
            "D5     1\n",
            "D6     0\n",
            "D7     1\n",
            "D8     0\n",
            "D9     1\n",
            "D10    1\n",
            "D11    1\n",
            "D12    1\n",
            "D13    1\n",
            "D14    0\n",
            "Name: Play Tennis, dtype: int64 1\n",
            "hello\n",
            "0.7222222222222222 D1     0\n",
            "D2     0\n",
            "D3     1\n",
            "D4     1\n",
            "D5     1\n",
            "D6     0\n",
            "D7     1\n",
            "D8     0\n",
            "D9     1\n",
            "D10    1\n",
            "D11    1\n",
            "D12    1\n",
            "D13    1\n",
            "D14    0\n",
            "Name: Play Tennis, dtype: int64 1\n",
            "hello\n",
            "0.7222222222222222 D1     0\n",
            "D2     0\n",
            "D3     1\n",
            "D4     1\n",
            "D5     1\n",
            "D6     0\n",
            "D7     1\n",
            "D8     0\n",
            "D9     1\n",
            "D10    1\n",
            "D11    1\n",
            "D12    1\n",
            "D13    1\n",
            "D14    0\n",
            "Name: Play Tennis, dtype: int64 1\n",
            "hello\n"
          ]
        }
      ],
      "source": [
        "clf = NaiveBayesClassifier()\n",
        "clf.fit(X, y)\n",
        "\n",
        "# Predict on new data\n",
        "# y_pred = clf.predict(X_test)"
      ]
    },
    {
      "cell_type": "code",
      "execution_count": 62,
      "metadata": {
        "id": "HWc_hbLTgS1a"
      },
      "outputs": [],
      "source": [
        "import numpy as np\n",
        "\n",
        "class NaiveBayesClassifier:\n",
        "    def __init__(self):\n",
        "        self.priors = None\n",
        "        self.conditional_probs = None\n",
        "\n",
        "    def fit(self, X, y):\n",
        "        \"\"\"\n",
        "        Fits the Naive Bayes classifier to the training data.\n",
        "\n",
        "        Args:\n",
        "            X: A numpy array of shape (n_samples, n_features) representing the features.\n",
        "            y: A numpy array of shape (n_samples,) representing the target labels.\n",
        "        \"\"\"\n",
        "\n",
        "        n_samples, n_features = X.shape\n",
        "        n_classes = len(np.unique(y))\n",
        "\n",
        "        # Calculate priors\n",
        "        self.priors = np.zeros(n_classes)\n",
        "        for i in range(n_classes):\n",
        "            self.priors[i] = np.sum(y == i) / n_samples\n",
        "\n",
        "        # Calculate conditional probabilities\n",
        "        self.conditional_probs = np.zeros((n_classes, n_features))\n",
        "        for i in range(n_classes):\n",
        "            X_class = X[y == i]\n",
        "            for j in range(n_features):\n",
        "                self.conditional_probs[i, j] = np.mean(X_class[:, j])\n",
        "\n",
        "    def predict(self, X):\n",
        "        \"\"\"\n",
        "        Predicts the class labels for new data.\n",
        "\n",
        "        Args:\n",
        "            X: A numpy array of shape (n_samples, n_features) representing the new data.\n",
        "\n",
        "        Returns:\n",
        "            A numpy array of shape (n_samples,) representing the predicted class labels.\n",
        "        \"\"\"\n",
        "\n",
        "        n_samples, n_features = X.shape\n",
        "        n_classes = len(self.priors)\n",
        "\n",
        "        # Calculate posterior probabilities\n",
        "        posteriors = np.zeros((n_samples, n_classes))\n",
        "        for i in range(n_classes):\n",
        "            for j in range(n_samples):\n",
        "                posteriors[j, i] = np.log(self.priors[i]) + np.sum(\n",
        "                    np.log(self.conditional_probs[i, :]) * X[j, :]\n",
        "                )\n",
        "\n",
        "        # Predict the class with the highest posterior probability\n",
        "        return np.argmax(posteriors, axis=1)"
      ]
    },
    {
      "cell_type": "markdown",
      "metadata": {},
      "source": [
        "# Example 2: Student Admission Prediction\n",
        "\n",
        "Let's create another example using a Student Admission dataset to predict whether a student gets admitted based on their academic profile."
      ]
    },
    {
      "cell_type": "code",
      "execution_count": 72,
      "metadata": {},
      "outputs": [
        {
          "name": "stdout",
          "output_type": "stream",
          "text": [
            "       GPA Test_Score Extracurricular Recommendation Admitted\n",
            "0     High       High             Yes         Strong      Yes\n",
            "1     High     Medium             Yes         Strong      Yes\n",
            "2   Medium       High              No        Average      Yes\n",
            "3      Low        Low              No           Weak       No\n",
            "4     High       High             Yes         Strong      Yes\n",
            "5   Medium     Medium             Yes        Average      Yes\n",
            "6      Low        Low              No           Weak       No\n",
            "7     High       High             Yes         Strong      Yes\n",
            "8   Medium       High              No        Average      Yes\n",
            "9     High     Medium             Yes         Strong      Yes\n",
            "10     Low        Low              No           Weak       No\n",
            "11  Medium       High              No        Average       No\n",
            "12    High       High             Yes         Strong      Yes\n",
            "13     Low        Low             Yes           Weak       No\n",
            "14  Medium     Medium              No        Average       No\n",
            "15    High       High             Yes         Strong      Yes\n",
            "16     Low     Medium              No        Average       No\n",
            "17    High       High             Yes         Strong      Yes\n",
            "18  Medium     Medium             Yes        Average      Yes\n",
            "19     Low        Low              No           Weak       No\n"
          ]
        }
      ],
      "source": [
        "# Create a Student Admission Dataset\n",
        "# Similar structure to tennis dataset but for academic admission prediction\n",
        "data_admission = {\n",
        "    'GPA': ['High', 'High', 'Medium', 'Low', 'High', 'Medium', 'Low', 'High', \n",
        "            'Medium', 'High', 'Low', 'Medium', 'High', 'Low', 'Medium', 'High',\n",
        "            'Low', 'High', 'Medium', 'Low'],\n",
        "    'Test_Score': ['High', 'Medium', 'High', 'Low', 'High', 'Medium', 'Low', 'High',\n",
        "                   'High', 'Medium', 'Low', 'High', 'High', 'Low', 'Medium', 'High',\n",
        "                   'Medium', 'High', 'Medium', 'Low'],\n",
        "    'Extracurricular': ['Yes', 'Yes', 'No', 'No', 'Yes', 'Yes', 'No', 'Yes',\n",
        "                        'No', 'Yes', 'No', 'No', 'Yes', 'Yes', 'No', 'Yes',\n",
        "                        'No', 'Yes', 'Yes', 'No'],\n",
        "    'Recommendation': ['Strong', 'Strong', 'Average', 'Weak', 'Strong', 'Average', 'Weak', 'Strong',\n",
        "                       'Average', 'Strong', 'Weak', 'Average', 'Strong', 'Weak', 'Average', 'Strong',\n",
        "                       'Average', 'Strong', 'Average', 'Weak'],\n",
        "    'Admitted': ['Yes', 'Yes', 'Yes', 'No', 'Yes', 'Yes', 'No', 'Yes',\n",
        "                 'Yes', 'Yes', 'No', 'No', 'Yes', 'No', 'No', 'Yes',\n",
        "                 'No', 'Yes', 'Yes', 'No']\n",
        "}\n",
        "\n",
        "df_admission = pd.DataFrame(data_admission)\n",
        "print(df_admission)"
      ]
    },
    {
      "cell_type": "code",
      "execution_count": 64,
      "metadata": {},
      "outputs": [
        {
          "name": "stdout",
          "output_type": "stream",
          "text": [
            "(20, 4)\n",
            "0     Yes\n",
            "1     Yes\n",
            "2     Yes\n",
            "3      No\n",
            "4     Yes\n",
            "5     Yes\n",
            "6      No\n",
            "7     Yes\n",
            "8     Yes\n",
            "9     Yes\n",
            "10     No\n",
            "11     No\n",
            "12    Yes\n",
            "13     No\n",
            "14     No\n",
            "15    Yes\n",
            "16     No\n",
            "17    Yes\n",
            "18    Yes\n",
            "19     No\n",
            "Name: Admitted, dtype: object\n"
          ]
        }
      ],
      "source": [
        "X_admission, y_admission = df_admission.drop([\"Admitted\"], axis=1), df_admission[\"Admitted\"]\n",
        "print(X_admission.shape)\n",
        "print(y_admission)"
      ]
    },
    {
      "cell_type": "code",
      "execution_count": 73,
      "metadata": {},
      "outputs": [
        {
          "name": "stdout",
          "output_type": "stream",
          "text": [
            "{'No': 0.0, 'Yes': 0.14814814814814814}\n",
            "{'No': 0.0, 'Yes': 0.07407407407407407}\n",
            "{'No': 0.0041015625, 'Yes': 0.007407407407407407}\n",
            "{'No': 0.1025390625, 'Yes': 0.0}\n",
            "{'No': 0.0, 'Yes': 0.14814814814814814}\n",
            "{'No': 0.0011718750000000002, 'Yes': 0.018518518518518517}\n",
            "{'No': 0.1025390625, 'Yes': 0.0}\n",
            "{'No': 0.0, 'Yes': 0.14814814814814814}\n",
            "{'No': 0.0041015625, 'Yes': 0.007407407407407407}\n",
            "{'No': 0.0, 'Yes': 0.07407407407407407}\n",
            "{'No': 0.1025390625, 'Yes': 0.0}\n",
            "{'No': 0.0041015625, 'Yes': 0.007407407407407407}\n",
            "{'No': 0.0, 'Yes': 0.14814814814814814}\n",
            "{'No': 0.0146484375, 'Yes': 0.0}\n",
            "{'No': 0.008203125, 'Yes': 0.0037037037037037034}\n",
            "{'No': 0.0, 'Yes': 0.14814814814814814}\n",
            "{'No': 0.024609375000000003, 'Yes': 0.0}\n",
            "{'No': 0.0, 'Yes': 0.14814814814814814}\n",
            "{'No': 0.0011718750000000002, 'Yes': 0.018518518518518517}\n",
            "{'No': 0.1025390625, 'Yes': 0.0}\n",
            "Train Accuracy: 95.0\n",
            "{'No': 0.0, 'Yes': 0.14814814814814814}\n",
            "Query:- [['High' 'High' 'Yes' 'Strong']] ---> ['Yes']\n"
          ]
        }
      ],
      "source": [
        "nb_admission = NaiveBayes()\n",
        "nb_admission.fit(X_admission, y_admission)\n",
        "\n",
        "print(\"Train Accuracy: {}\".format(accuracy_score(y_admission, nb_admission.predict(X_admission))))\n",
        "\n",
        "#Query 1:\n",
        "# GPA Test_Score Extracurricular Recommendation Admitted\n",
        "query = np.array([['High','High','Yes','Strong']])\n",
        "print(\"Query:- {} ---> {}\".format(query, nb_admission.predict(query)))"
      ]
    },
    {
      "cell_type": "code",
      "execution_count": 66,
      "metadata": {},
      "outputs": [
        {
          "data": {
            "text/plain": [
              "{'GPA': {'High': 0.4, 'Low': 0.3, 'Medium': 0.3},\n",
              " 'Test_Score': {'High': 0.45, 'Low': 0.25, 'Medium': 0.3},\n",
              " 'Extracurricular': {'No': 0.45, 'Yes': 0.55},\n",
              " 'Recommendation': {'Average': 0.35, 'Strong': 0.4, 'Weak': 0.25}}"
            ]
          },
          "execution_count": 66,
          "metadata": {},
          "output_type": "execute_result"
        }
      ],
      "source": [
        "nb_admission.pred_priors"
      ]
    },
    {
      "cell_type": "code",
      "execution_count": 67,
      "metadata": {},
      "outputs": [
        {
          "data": {
            "text/plain": [
              "{'No': 0.4, 'Yes': 0.6}"
            ]
          },
          "execution_count": 67,
          "metadata": {},
          "output_type": "execute_result"
        }
      ],
      "source": [
        "nb_admission.class_priors"
      ]
    },
    {
      "cell_type": "code",
      "execution_count": 68,
      "metadata": {},
      "outputs": [
        {
          "data": {
            "text/plain": [
              "{'GPA': {'High_No': 0,\n",
              "  'High_Yes': 0.6666666666666666,\n",
              "  'Low_No': 0.75,\n",
              "  'Low_Yes': 0,\n",
              "  'Medium_No': 0.25,\n",
              "  'Medium_Yes': 0.3333333333333333},\n",
              " 'Test_Score': {'High_No': 0.125,\n",
              "  'High_Yes': 0.6666666666666666,\n",
              "  'Low_No': 0.625,\n",
              "  'Low_Yes': 0,\n",
              "  'Medium_No': 0.25,\n",
              "  'Medium_Yes': 0.3333333333333333},\n",
              " 'Extracurricular': {'No_No': 0.875,\n",
              "  'No_Yes': 0.16666666666666666,\n",
              "  'Yes_No': 0.125,\n",
              "  'Yes_Yes': 0.8333333333333334},\n",
              " 'Recommendation': {'Average_No': 0.375,\n",
              "  'Average_Yes': 0.3333333333333333,\n",
              "  'Strong_No': 0,\n",
              "  'Strong_Yes': 0.6666666666666666,\n",
              "  'Weak_No': 0.625,\n",
              "  'Weak_Yes': 0}}"
            ]
          },
          "execution_count": 68,
          "metadata": {},
          "output_type": "execute_result"
        }
      ],
      "source": [
        "nb_admission.likelihoods"
      ]
    },
    {
      "cell_type": "code",
      "execution_count": 69,
      "metadata": {},
      "outputs": [
        {
          "data": {
            "text/plain": [
              "['Yes', 'No']"
            ]
          },
          "execution_count": 69,
          "metadata": {},
          "output_type": "execute_result"
        }
      ],
      "source": [
        "list(y_admission.unique())"
      ]
    }
  ],
  "metadata": {
    "colab": {
      "provenance": []
    },
    "kernelspec": {
      "display_name": ".venv",
      "language": "python",
      "name": "python3"
    },
    "language_info": {
      "codemirror_mode": {
        "name": "ipython",
        "version": 3
      },
      "file_extension": ".py",
      "mimetype": "text/x-python",
      "name": "python",
      "nbconvert_exporter": "python",
      "pygments_lexer": "ipython3",
      "version": "3.9.23"
    }
  },
  "nbformat": 4,
  "nbformat_minor": 0
}
